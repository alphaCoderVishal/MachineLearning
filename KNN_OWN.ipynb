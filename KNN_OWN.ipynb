{
 "cells": [
  {
   "cell_type": "markdown",
   "id": "8bfd0f0c",
   "metadata": {},
   "source": [
    "# Import Basic Libraries"
   ]
  },
  {
   "cell_type": "code",
   "execution_count": 1,
   "id": "aaf9dccc",
   "metadata": {},
   "outputs": [],
   "source": [
    "import numpy as np\n",
    "import pandas as pd\n",
    "from sklearn.model_selection import train_test_split\n",
    "from collections import Counter"
   ]
  },
  {
   "cell_type": "markdown",
   "id": "10ab4c27",
   "metadata": {},
   "source": [
    "# Read data"
   ]
  },
  {
   "cell_type": "code",
   "execution_count": 2,
   "id": "22e756ff",
   "metadata": {},
   "outputs": [],
   "source": [
    "df = pd.read_csv(\"KNN_Data.csv\")"
   ]
  },
  {
   "cell_type": "code",
   "execution_count": 3,
   "id": "5cc765af",
   "metadata": {},
   "outputs": [
    {
     "data": {
      "text/html": [
       "<div>\n",
       "<style scoped>\n",
       "    .dataframe tbody tr th:only-of-type {\n",
       "        vertical-align: middle;\n",
       "    }\n",
       "\n",
       "    .dataframe tbody tr th {\n",
       "        vertical-align: top;\n",
       "    }\n",
       "\n",
       "    .dataframe thead th {\n",
       "        text-align: right;\n",
       "    }\n",
       "</style>\n",
       "<table border=\"1\" class=\"dataframe\">\n",
       "  <thead>\n",
       "    <tr style=\"text-align: right;\">\n",
       "      <th></th>\n",
       "      <th>Year</th>\n",
       "      <th>Mo</th>\n",
       "      <th>Globe</th>\n",
       "      <th>Land</th>\n",
       "      <th>Ocean</th>\n",
       "      <th>NH</th>\n",
       "      <th>Land.1</th>\n",
       "      <th>Ocean.1</th>\n",
       "      <th>SH</th>\n",
       "      <th>Land.2</th>\n",
       "      <th>...</th>\n",
       "      <th>NoPol</th>\n",
       "      <th>Land.6</th>\n",
       "      <th>Ocean.6</th>\n",
       "      <th>SoPol</th>\n",
       "      <th>Land.7</th>\n",
       "      <th>Ocean.7</th>\n",
       "      <th>USA48</th>\n",
       "      <th>USA49</th>\n",
       "      <th>AUST</th>\n",
       "      <th>Troposphere</th>\n",
       "    </tr>\n",
       "  </thead>\n",
       "  <tbody>\n",
       "    <tr>\n",
       "      <th>0</th>\n",
       "      <td>1978</td>\n",
       "      <td>12</td>\n",
       "      <td>-0.48</td>\n",
       "      <td>-0.51</td>\n",
       "      <td>-0.47</td>\n",
       "      <td>-0.44</td>\n",
       "      <td>-0.46</td>\n",
       "      <td>-0.42</td>\n",
       "      <td>-0.52</td>\n",
       "      <td>-0.62</td>\n",
       "      <td>...</td>\n",
       "      <td>-0.39</td>\n",
       "      <td>-0.68</td>\n",
       "      <td>-0.06</td>\n",
       "      <td>-0.45</td>\n",
       "      <td>-0.38</td>\n",
       "      <td>-0.49</td>\n",
       "      <td>-1.29</td>\n",
       "      <td>-1.15</td>\n",
       "      <td>-1.29</td>\n",
       "      <td>Lower</td>\n",
       "    </tr>\n",
       "    <tr>\n",
       "      <th>1</th>\n",
       "      <td>1979</td>\n",
       "      <td>1</td>\n",
       "      <td>-0.47</td>\n",
       "      <td>-0.64</td>\n",
       "      <td>-0.41</td>\n",
       "      <td>-0.64</td>\n",
       "      <td>-0.86</td>\n",
       "      <td>-0.50</td>\n",
       "      <td>-0.31</td>\n",
       "      <td>-0.13</td>\n",
       "      <td>...</td>\n",
       "      <td>-0.46</td>\n",
       "      <td>-0.95</td>\n",
       "      <td>0.10</td>\n",
       "      <td>-0.16</td>\n",
       "      <td>-0.15</td>\n",
       "      <td>-0.16</td>\n",
       "      <td>-3.22</td>\n",
       "      <td>-2.42</td>\n",
       "      <td>0.92</td>\n",
       "      <td>Lower</td>\n",
       "    </tr>\n",
       "    <tr>\n",
       "      <th>2</th>\n",
       "      <td>1979</td>\n",
       "      <td>2</td>\n",
       "      <td>-0.43</td>\n",
       "      <td>-0.56</td>\n",
       "      <td>-0.39</td>\n",
       "      <td>-0.47</td>\n",
       "      <td>-0.57</td>\n",
       "      <td>-0.41</td>\n",
       "      <td>-0.39</td>\n",
       "      <td>-0.53</td>\n",
       "      <td>...</td>\n",
       "      <td>-2.01</td>\n",
       "      <td>-2.30</td>\n",
       "      <td>-1.66</td>\n",
       "      <td>-0.80</td>\n",
       "      <td>-1.25</td>\n",
       "      <td>-0.58</td>\n",
       "      <td>-1.76</td>\n",
       "      <td>-1.84</td>\n",
       "      <td>-0.30</td>\n",
       "      <td>Lower</td>\n",
       "    </tr>\n",
       "    <tr>\n",
       "      <th>3</th>\n",
       "      <td>1979</td>\n",
       "      <td>3</td>\n",
       "      <td>-0.38</td>\n",
       "      <td>-0.51</td>\n",
       "      <td>-0.33</td>\n",
       "      <td>-0.46</td>\n",
       "      <td>-0.51</td>\n",
       "      <td>-0.44</td>\n",
       "      <td>-0.30</td>\n",
       "      <td>-0.53</td>\n",
       "      <td>...</td>\n",
       "      <td>-0.56</td>\n",
       "      <td>-0.47</td>\n",
       "      <td>-0.65</td>\n",
       "      <td>-0.52</td>\n",
       "      <td>-1.25</td>\n",
       "      <td>-0.18</td>\n",
       "      <td>-0.70</td>\n",
       "      <td>-0.39</td>\n",
       "      <td>0.23</td>\n",
       "      <td>Lower</td>\n",
       "    </tr>\n",
       "    <tr>\n",
       "      <th>4</th>\n",
       "      <td>1979</td>\n",
       "      <td>4</td>\n",
       "      <td>-0.40</td>\n",
       "      <td>-0.57</td>\n",
       "      <td>-0.34</td>\n",
       "      <td>-0.47</td>\n",
       "      <td>-0.62</td>\n",
       "      <td>-0.37</td>\n",
       "      <td>-0.34</td>\n",
       "      <td>-0.46</td>\n",
       "      <td>...</td>\n",
       "      <td>-0.84</td>\n",
       "      <td>-0.81</td>\n",
       "      <td>-0.88</td>\n",
       "      <td>-0.26</td>\n",
       "      <td>0.26</td>\n",
       "      <td>-0.51</td>\n",
       "      <td>-0.72</td>\n",
       "      <td>-0.46</td>\n",
       "      <td>-1.12</td>\n",
       "      <td>Lower</td>\n",
       "    </tr>\n",
       "  </tbody>\n",
       "</table>\n",
       "<p>5 rows × 30 columns</p>\n",
       "</div>"
      ],
      "text/plain": [
       "   Year  Mo  Globe  Land  Ocean    NH  Land.1  Ocean.1    SH  Land.2  ...  \\\n",
       "0  1978  12  -0.48 -0.51  -0.47 -0.44   -0.46    -0.42 -0.52   -0.62  ...   \n",
       "1  1979   1  -0.47 -0.64  -0.41 -0.64   -0.86    -0.50 -0.31   -0.13  ...   \n",
       "2  1979   2  -0.43 -0.56  -0.39 -0.47   -0.57    -0.41 -0.39   -0.53  ...   \n",
       "3  1979   3  -0.38 -0.51  -0.33 -0.46   -0.51    -0.44 -0.30   -0.53  ...   \n",
       "4  1979   4  -0.40 -0.57  -0.34 -0.47   -0.62    -0.37 -0.34   -0.46  ...   \n",
       "\n",
       "   NoPol  Land.6  Ocean.6  SoPol  Land.7  Ocean.7  USA48  USA49  AUST  \\\n",
       "0  -0.39   -0.68    -0.06  -0.45   -0.38    -0.49  -1.29  -1.15 -1.29   \n",
       "1  -0.46   -0.95     0.10  -0.16   -0.15    -0.16  -3.22  -2.42  0.92   \n",
       "2  -2.01   -2.30    -1.66  -0.80   -1.25    -0.58  -1.76  -1.84 -0.30   \n",
       "3  -0.56   -0.47    -0.65  -0.52   -1.25    -0.18  -0.70  -0.39  0.23   \n",
       "4  -0.84   -0.81    -0.88  -0.26    0.26    -0.51  -0.72  -0.46 -1.12   \n",
       "\n",
       "   Troposphere  \n",
       "0        Lower  \n",
       "1        Lower  \n",
       "2        Lower  \n",
       "3        Lower  \n",
       "4        Lower  \n",
       "\n",
       "[5 rows x 30 columns]"
      ]
     },
     "execution_count": 3,
     "metadata": {},
     "output_type": "execute_result"
    }
   ],
   "source": [
    "df.head()"
   ]
  },
  {
   "cell_type": "raw",
   "id": "dd90ea9b",
   "metadata": {},
   "source": [
    "# import pandas as pd\n",
    "# from sklearn.model_selection import train_test_split\n",
    "# from sklearn.preprocessing import normalize\n",
    "# import scipy.spatial\n",
    "# from collections import Counter\n",
    "# data = pd.read_csv(r&quot;Climate Data-kNN.csv&quot;)\n",
    "# data = data.dropna()\n",
    "# X = data.iloc[:,1:-1]\n",
    "# Y = data.iloc[:,-1]\n",
    "# X = X.to_numpy()\n",
    "# Y = Y.to_numpy()\n",
    "# X = normalize(X, axis=0, norm=&#39;max&#39;)\n",
    "# X_train, X_test, y_train, y_test = train_test_split(X, Y, test_size = 0.2,\n",
    "# random_state=42)\n",
    "# class KNN:\n",
    "# def __init__(self, k):\n",
    "# self.k = k\n",
    "# def fit(self, X, y):\n",
    "# self.X_train = X\n",
    "# self.y_train = y\n",
    "# def distance(self, X1, X2):\n",
    "# distance = scipy.spatial.distance.euclidean(X1, X2)\n",
    "\n",
    "\n",
    "\n",
    "\n",
    "# def predict(self, X_test):\n",
    "#   final_output = []\n",
    "#   for i in range(len(X_test)):\n",
    "#     d = []\n",
    "#     votes = []\n",
    "#   for j in range(len(X_train)):\n",
    "#     dist = scipy.spatial.distance.euclidean(X_train[j] ,\n",
    "#     X_test[i])\n",
    "#     d.append([dist, j])\n",
    "#     d.sort()\n",
    "#     d = d[0:self.k]\n",
    "#  for d, j in d:\n",
    "#     votes.append(y_train[j])\n",
    " ans = Counter(votes).most_common(1)[0][0]\n",
    "#     final_output.append(ans)\n",
    "# return final_output\n",
    "\n",
    "\n",
    "\n",
    "# def score(self, X_test, y_test):\n",
    "# predictions = self.predict(X_test)\n",
    "#               return (predictions == y_test).sum() / len(y_test)\n",
    "# clf = KNN(30)\n",
    "# clf.fit(X_train, y_train)\n",
    "# sc = clf.score(X_test, y_test)\n",
    "# print(sc)"
   ]
  },
  {
   "cell_type": "code",
   "execution_count": 5,
   "id": "a208e5fc",
   "metadata": {},
   "outputs": [],
   "source": [
    "# lets play with array\n",
    "X = df.iloc[:,[1,2]].to_numpy()\n",
    "y = df.iloc[:,-1].to_numpy()\n"
   ]
  },
  {
   "cell_type": "markdown",
   "id": "fc8bd325",
   "metadata": {},
   "source": [
    "# Define euclidean distance"
   ]
  },
  {
   "cell_type": "code",
   "execution_count": 43,
   "id": "3b96137e",
   "metadata": {},
   "outputs": [],
   "source": [
    "def euclidean(a,X):\n",
    "    # a is a single dimensional array or vector and X is a matrix or 2 d array\n",
    "    # But this can be modified for any dimension let update\n",
    "    dim = len(X);\n",
    "#     print(\"len of x:\",dim)\n",
    "    x=np.zeros(a.shape)\n",
    "#     print(\"x initially\",x)\n",
    "    for j in range(dim):\n",
    "        dist =0\n",
    "        for i in range(len(X[j])):\n",
    "            dist += np.sqrt(np.sum(np.square(X[j][i]-a[i])))\n",
    "            x[i]=(dist)\n",
    "\n",
    "       \n",
    "    return x    \n",
    "        \n",
    "    \n",
    "    "
   ]
  },
  {
   "cell_type": "code",
   "execution_count": 44,
   "id": "acdb715b",
   "metadata": {},
   "outputs": [
    {
     "name": "stdout",
     "output_type": "stream",
     "text": [
      "[5.   5.09]\n"
     ]
    }
   ],
   "source": [
    "z = euclidean(X[0],X)\n",
    "print(z)\n"
   ]
  },
  {
   "cell_type": "markdown",
   "id": "37a71c40",
   "metadata": {},
   "source": [
    "# construct knn class"
   ]
  },
  {
   "cell_type": "code",
   "execution_count": 33,
   "id": "f21c0f0e",
   "metadata": {},
   "outputs": [],
   "source": [
    "class knn:\n",
    "    def __init__(self,k):\n",
    "        self.k = k\n",
    "# fit function your model is learning the output but in this case knn does not learn anything, lazy learner    \n",
    "    def fit(self,X,y):\n",
    "        self.X_train = X\n",
    "        self.y_train = y\n",
    "# this function will return your actual calculation        \n",
    "    def predict(self,X_test):\n",
    "        y_test = []\n",
    "        print(\"X_test:\",X_test)\n",
    "        self.X_test = X_test\n",
    "        dist = [] # it will store our index as well distance\n",
    "        for i in range(len(X_test)):\n",
    "            distance = euclidean(X_test[i],X_train)#distance from the trained data set\n",
    "            dist.append([distance,int(i)])\n",
    "        dist.sort(key=lambda x:x[1])\n",
    "        #only choose k values\n",
    "        dist =dist[0:self.k]\n",
    "        print(\"K nearest distance\",dist)\n",
    "        vote = []\n",
    "        for d,j in dist:\n",
    "            vote.append(j)\n",
    "        pred = Counter(vote).most_common(1)[0][0] #counter :- Hashtable\n",
    "        y_test.append(pred)\n",
    "        return y_test\n",
    "        \n",
    "        \n",
    "            \n",
    "            \n",
    "            \n",
    "            \n",
    "        \n",
    "        \n",
    "        \n",
    "        \n",
    "    "
   ]
  },
  {
   "cell_type": "markdown",
   "id": "7c86fb78",
   "metadata": {},
   "source": [
    "# Splitting the data in testing and training"
   ]
  },
  {
   "cell_type": "code",
   "execution_count": 10,
   "id": "6b4de198",
   "metadata": {},
   "outputs": [],
   "source": [
    "X_train,X_test,y_train,y_test = train_test_split(X,y,test_size=0.25)"
   ]
  },
  {
   "cell_type": "code",
   "execution_count": 45,
   "id": "efbf06f5",
   "metadata": {},
   "outputs": [
    {
     "name": "stdout",
     "output_type": "stream",
     "text": [
      "X_test: [[12.    0.16]\n",
      " [ 2.    0.62]\n",
      " [ 2.    0.  ]\n",
      " ...\n",
      " [ 7.   -0.25]\n",
      " [ 4.   -0.16]\n",
      " [ 5.   -0.21]]\n",
      "K nearest distance [[array([0.  , 0.46]), 0], [array([10.  , 10.92]), 1], [array([10. , 10.3]), 2], [array([4.  , 4.15]), 3], [array([8. , 8.2]), 4]]\n",
      "[0]\n"
     ]
    }
   ],
   "source": [
    "obj = knn(5)\n",
    "print(obj.predict(X_test))"
   ]
  },
  {
   "cell_type": "code",
   "execution_count": 16,
   "id": "0013f108",
   "metadata": {},
   "outputs": [
    {
     "ename": "NameError",
     "evalue": "name 'dataframe' is not defined",
     "output_type": "error",
     "traceback": [
      "\u001b[1;31m---------------------------------------------------------------------------\u001b[0m",
      "\u001b[1;31mNameError\u001b[0m                                 Traceback (most recent call last)",
      "Cell \u001b[1;32mIn [16], line 1\u001b[0m\n\u001b[1;32m----> 1\u001b[0m help(dataframe\u001b[38;5;241m.\u001b[39msort_values)\n",
      "\u001b[1;31mNameError\u001b[0m: name 'dataframe' is not defined"
     ]
    }
   ],
   "source": []
  },
  {
   "cell_type": "code",
   "execution_count": null,
   "id": "a41e38f7",
   "metadata": {},
   "outputs": [],
   "source": []
  }
 ],
 "metadata": {
  "kernelspec": {
   "display_name": "Python 3 (ipykernel)",
   "language": "python",
   "name": "python3"
  },
  "language_info": {
   "codemirror_mode": {
    "name": "ipython",
    "version": 3
   },
   "file_extension": ".py",
   "mimetype": "text/x-python",
   "name": "python",
   "nbconvert_exporter": "python",
   "pygments_lexer": "ipython3",
   "version": "3.9.2"
  }
 },
 "nbformat": 4,
 "nbformat_minor": 5
}
