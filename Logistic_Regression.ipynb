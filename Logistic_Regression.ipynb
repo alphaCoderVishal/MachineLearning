{
 "cells": [
  {
   "cell_type": "code",
   "execution_count": 1,
   "id": "470219e8",
   "metadata": {},
   "outputs": [],
   "source": [
    "import numpy as np \n",
    "from numpy import log,dot,exp,shape\n",
    "import matplotlib.pyplot as plt\n",
    "from sklearn.datasets import make_classification\n",
    "import sys"
   ]
  },
  {
   "cell_type": "code",
   "execution_count": 13,
   "id": "0443b3d6",
   "metadata": {},
   "outputs": [
    {
     "name": "stdout",
     "output_type": "stream",
     "text": [
      "my name is ['C:\\\\Users\\\\vishal567795\\\\anaconda3\\\\lib\\\\site-packages\\\\ipykernel_launcher.py', '-f', 'C:\\\\Users\\\\vishal567795\\\\AppData\\\\Roaming\\\\jupyter\\\\runtime\\\\kernel-8fee6b2f-d661-4399-a0f2-42caadb19633.json']\n"
     ]
    }
   ],
   "source": [
    "# import sklearn\n",
    "# dir(sklearn.datasets.make_classification)\n",
    "print(\"my name is\",sys.argv)"
   ]
  },
  {
   "cell_type": "code",
   "execution_count": 3,
   "id": "f1c69079",
   "metadata": {
    "scrolled": true
   },
   "outputs": [
    {
     "name": "stdout",
     "output_type": "stream",
     "text": [
      "[1 1 0 1 1 0 0 0 1 1 1 0 0 0 0 1 0 1 1 0 1 1 1 0 0 1 0 0 0 1 1 0 1 1 0 0 0\n",
      " 1 0 0 0 1 1 1 1 0 1 1 0 1 0 0 1 1 1 0 1 1 1 0 0 1 1 0 0 1 0 1 1 1 0 0 1 0\n",
      " 1 0 0 1 0 1 0 0 0 1 0 0 1 1 0 0 0 1 1 1 1 1 1 0 0 0] 100 100\n"
     ]
    },
    {
     "data": {
      "text/plain": [
       "numpy.ndarray"
      ]
     },
     "execution_count": 3,
     "metadata": {},
     "output_type": "execute_result"
    }
   ],
   "source": [
    "X,y = make_classification(n_samples=100,n_features=4)\n",
    "# print(X)\n",
    "print(y,len(y),len(X))\n",
    "type(X)\n",
    "# help(make_classification())"
   ]
  },
  {
   "cell_type": "code",
   "execution_count": 4,
   "id": "b29a3484",
   "metadata": {},
   "outputs": [
    {
     "name": "stdout",
     "output_type": "stream",
     "text": [
      "X_training:\n",
      "[[ 0.20760756  0.5256946   0.51092317  0.76549181]\n",
      " [ 1.10926026  0.46853151 -0.93047654 -1.29310937]\n",
      " [-0.72927208  0.02046735  1.12552711  1.60576164]\n",
      " [-0.76818504 -0.18681582  0.85967041  1.21213358]\n",
      " [-1.17340964 -1.03917371  0.13414234  0.11761319]\n",
      " [ 1.28292947  1.68222858  0.70741907  1.12747735]\n",
      " [ 0.31685266  1.02398786  1.1264794   1.67818577]\n",
      " [-1.06011604 -1.50947891 -0.77132666 -1.20633673]\n",
      " [ 1.95422388  0.89973514 -1.52303408 -2.1071967 ]\n",
      " [ 0.92315816  1.14581244  0.40789022  0.66254508]\n",
      " [-0.91928791 -1.86630007 -1.54058573 -2.32809811]\n",
      " [ 1.40709677  1.4978591   0.23286853  0.4380024 ]\n",
      " [-1.05956839 -1.37816798 -0.5667685  -0.90546301]\n",
      " [-0.77195474 -1.01438199 -0.42904752 -0.68339486]\n",
      " [-1.34586079 -1.8161852  -0.8225734  -1.30110335]\n",
      " [-3.06410092 -2.02407553  1.42870524  1.89311867]\n",
      " [-1.20586561 -1.5011303  -0.53972311 -0.87562072]\n",
      " [-1.14185509 -1.20560265 -0.17347878 -0.33265215]\n",
      " [-1.00273331 -1.26833307 -0.48020111 -0.77429271]\n",
      " [-0.24400786  0.18446282  0.65439271  0.94582633]\n",
      " [-1.24265533 -1.78472522 -0.92812035 -1.44932073]\n",
      " [-2.04224196 -1.48899244  0.73337474  0.93989652]\n",
      " [ 1.67189985  1.77116011  0.26326833  0.50068837]\n",
      " [ 1.1627477   0.54718167 -0.8876646  -1.22651597]\n",
      " [ 1.6445782   1.70296094  0.19756788  0.40221009]\n",
      " [-0.7879396  -0.96885437 -0.33387051 -0.5445066 ]\n",
      " [-0.98465751 -0.67990306  0.41303998  0.54059301]\n",
      " [ 1.91502736  2.0948604   0.40499772  0.72563129]\n",
      " [ 1.1795431   1.650388    0.812642    1.27520592]\n",
      " [ 1.16042792  1.66926211  0.87082486  1.35947566]\n",
      " [ 0.38984834  0.32673209 -0.07353076 -0.0816715 ]\n",
      " [ 0.54718722  1.36198115  1.30974656  1.96334829]\n",
      " [-1.04423833 -1.39569932 -0.61717554 -0.97855409]\n",
      " [-2.17052642 -1.34703177  1.1477685   1.54062147]\n",
      " [-0.73518767 -0.72811529 -0.03643746 -0.10350075]\n",
      " [ 1.80492109  0.82799735 -1.41136325 -1.95310279]\n",
      " [ 0.06000506  0.18438753  0.19841956  0.29588259]\n",
      " [ 1.0685297   1.59236685  0.88835316  1.37901475]\n",
      " [ 0.42420418  1.02996242  0.97485465  1.46248486]\n",
      " [ 1.08826877  1.28457456  0.37734686  0.62883574]\n",
      " [ 1.18305995  0.56429511 -0.89135542 -1.23056488]\n",
      " [ 1.34415163  0.59968575 -1.07755265 -1.4934618 ]\n",
      " [ 0.62104957  0.36237943 -0.364453   -0.49382394]\n",
      " [-0.97907604 -0.33391643  0.94581768  1.32450953]\n",
      " [ 0.67503624  1.25026147  0.94330473  1.43311501]\n",
      " [-0.98966347 -1.3096352  -0.5643982  -0.8972311 ]\n",
      " [ 0.70994669  0.37951802 -0.47094479 -0.64440229]\n",
      " [ 0.65966242  0.74290152  0.17281128  0.2989334 ]\n",
      " [ 1.26078144  1.10135525 -0.16789671 -0.16132271]\n",
      " [ 1.33951881  1.27368823 -0.01641965  0.06679496]\n",
      " [-1.74094005 -1.51898107  0.23468011  0.22693974]\n",
      " [-0.88707538 -1.08118037 -0.36090591 -0.59099717]\n",
      " [ 1.03757511  0.52500121 -0.73466499 -1.010003  ]\n",
      " [-0.88077073 -1.3864364  -0.84780093 -1.30662864]\n",
      " [ 0.98104137  0.45773573 -0.75510272 -1.04389826]\n",
      " [ 0.65684287  0.46904625 -0.2512894  -0.3249681 ]\n",
      " [ 1.36903856  1.29802526 -0.02261856  0.0596826 ]\n",
      " [-0.04806962  0.90121255  1.48163695  2.17572824]\n",
      " [-1.23422318 -1.82795525 -1.00837876 -1.5667815 ]\n",
      " [-1.25625739 -1.55278207 -0.54494954 -0.88672826]\n",
      " [ 1.07213505  1.41786697  0.61001724  0.9699206 ]\n",
      " [-0.73036563 -0.03478736  1.04074467  1.48100082]\n",
      " [-1.57258202 -1.04759058  0.71952105  0.95140858]\n",
      " [ 1.55990068  0.75787884 -1.15363498 -1.59070576]\n",
      " [-1.08204818 -0.86702784  0.26639742  0.31831885]\n",
      " [-1.65505354 -0.94147715  1.00915255  1.37176036]\n",
      " [ 0.27020298  0.24323844 -0.02471706 -0.01800586]\n",
      " [ 0.8183287   0.46568642 -0.49868605 -0.6778421 ]\n",
      " [ 0.9282532   1.28807925  0.62276549  0.97890055]\n",
      " [-0.98871476 -1.45209077 -0.78863107 -1.22693814]\n",
      " [-0.88906582 -1.46240398 -0.95418129 -1.46364171]\n",
      " [ 1.0477778   0.47903422 -0.82185906 -1.1375436 ]\n",
      " [-0.97352104 -1.23765059 -0.47601424 -0.76615194]\n",
      " [ 2.26962708  1.02927451 -1.79336025 -2.48334259]\n",
      " [-1.27515496 -0.63645892  0.91657909  1.26140793]\n",
      " [-2.60007167 -1.73875255  1.17917643  1.55764927]\n",
      " [ 0.35100597  0.70177571  0.57130588  0.86403018]\n",
      " [ 0.92080023  1.64946684  1.19917597  1.82610136]\n",
      " [ 0.68251172  0.3358142  -0.49816292 -0.68629367]\n",
      " [-1.01859458 -1.62753571 -1.0182354  -1.56663784]\n",
      " [ 1.31136579  0.6229119  -0.99206427 -1.36996292]\n",
      " [ 0.69584195  0.35917815 -0.48160826 -0.66104228]\n",
      " [ 1.02882031  1.58754986  0.94036172  1.45280597]\n",
      " [ 0.49693073  0.31342497 -0.25490983 -0.34114932]\n",
      " [-1.36439238 -1.91409212 -0.94791916 -1.48670314]\n",
      " [ 1.50113676  0.69004374 -1.17161956 -1.62114466]\n",
      " [ 0.4075846   1.2614339   1.36181239  2.03044177]\n",
      " [ 1.21039098  1.49284184  0.51997378  0.8468833 ]\n",
      " [-0.54898841 -0.46227887  0.10015053  0.11001591]\n",
      " [ 1.64060135  1.52920492 -0.06823537  0.01103252]]\n",
      "X_testing\n",
      "[[ 1.47522852  0.66592784 -1.17049011 -1.62124259]\n",
      " [ 0.99627148  0.50979197 -0.69652013 -0.95670888]\n",
      " [-0.74213268 -1.24087027 -0.82800779 -1.26810714]\n",
      " [-0.83799893 -1.22132694 -0.653693   -1.01825701]\n",
      " [-0.84700485 -0.2230924   0.92111855  1.29715198]\n",
      " [ 2.08759526  0.89387564 -1.73218387 -2.40573114]\n",
      " [ 0.58717919  0.28837122 -0.42941962 -0.59166763]\n",
      " [-1.66905821 -0.44642907  1.80444127  2.54041295]\n",
      " [-1.49702617 -1.06215438  0.58344923  0.75642216]\n",
      " [-1.06502435 -0.7274039   0.45925232  0.60309961]]\n",
      "y_training\n",
      "[0 1 0 0 0 1 1 0 1 1 0 1 0 0 0 0 0 0 0 0 0 0 1 1 1 0 0 1 1 1 1 1 0 0 0 1 0\n",
      " 1 1 1 1 1 1 0 1 0 1 0 1 1 0 0 1 0 1 1 1 1 0 0 1 1 0 1 0 0 1 1 1 0 0 1 0 1\n",
      " 0 0 0 1 1 0 1 1 1 0 0 1 1 1 0 1]\n",
      "y_te\n",
      "[1 1 0 0 0 1 1 0 0 0]\n"
     ]
    }
   ],
   "source": [
    "from sklearn.model_selection import train_test_split  \n",
    "X_tr,X_te,y_tr,y_te = train_test_split(X,y,test_size=0.1,train_size=0.9)\n",
    "# help(train_test_split)\n",
    "print(\"X_training:\",X_tr,\"X_testing\",X_te,\"y_training\",y_tr,\"y_te\",y_te,sep=\"\\n\") \n"
   ]
  },
  {
   "cell_type": "code",
   "execution_count": 5,
   "id": "a27e1ec6",
   "metadata": {},
   "outputs": [
    {
     "name": "stdout",
     "output_type": "stream",
     "text": [
      "Help on function shape in module numpy:\n",
      "\n",
      "shape(a)\n",
      "    Return the shape of an array.\n",
      "    \n",
      "    Parameters\n",
      "    ----------\n",
      "    a : array_like\n",
      "        Input array.\n",
      "    \n",
      "    Returns\n",
      "    -------\n",
      "    shape : tuple of ints\n",
      "        The elements of the shape tuple give the lengths of the\n",
      "        corresponding array dimensions.\n",
      "    \n",
      "    See Also\n",
      "    --------\n",
      "    len\n",
      "    ndarray.shape : Equivalent array method.\n",
      "    \n",
      "    Examples\n",
      "    --------\n",
      "    >>> np.shape(np.eye(3))\n",
      "    (3, 3)\n",
      "    >>> np.shape([[1, 2]])\n",
      "    (1, 2)\n",
      "    >>> np.shape([0])\n",
      "    (1,)\n",
      "    >>> np.shape(0)\n",
      "    ()\n",
      "    \n",
      "    >>> a = np.array([(1, 2), (3, 4)], dtype=[('x', 'i4'), ('y', 'i4')])\n",
      "    >>> np.shape(a)\n",
      "    (2,)\n",
      "    >>> a.shape\n",
      "    (2,)\n",
      "\n"
     ]
    }
   ],
   "source": [
    "# normal form of the training set\n",
    "help(shape)\n",
    "def standardize(X_tr):\n",
    "    for i in range(shape(X_tr)[1]):\n",
    "        X_tr[:,i] = (X_tr[:,i] - np.mean(X_tr[:,i]))/np.std(X_tr[:,i])\n",
    "        "
   ]
  },
  {
   "cell_type": "code",
   "execution_count": 6,
   "id": "3f57f50b",
   "metadata": {},
   "outputs": [],
   "source": [
    "def F1_score(y,y_hat):\n",
    "    tp,tn,fp,fn = 0,0,0,0\n",
    "    for i in range(len(y)):\n",
    "        if y[i] == 1 and y_hat[i] == 1:\n",
    "            tp += 1\n",
    "        elif y[i] == 1 and y_hat[i] == 0:\n",
    "            fn += 1\n",
    "        elif y[i] == 0 and y_hat[i] == 1:\n",
    "            fp += 1\n",
    "        elif y[i] == 0 and y_hat[i] == 0:\n",
    "            tn += 1\n",
    "    precision = tp/(tp+fp)\n",
    "    recall = tp/(tp+fn)\n",
    "    f1_score = 2*precision*recall/(precision+recall)\n",
    "    return f1_score"
   ]
  },
  {
   "cell_type": "code",
   "execution_count": 7,
   "id": "6fd755f3",
   "metadata": {},
   "outputs": [],
   "source": [
    "class LogidticRegression:\n",
    "    def sigmoid(self,z):\n",
    "        sig = 1/(1+exp(-z))\n",
    "        return sig\n",
    "    def initialize(self,X):\n",
    "        weights = np.zeros((shape(X)[1]+1,1))\n",
    "        X = np.c_[np.ones((shape(X)[0],1)),X]\n",
    "        return weights,X\n",
    "    def fit(self,X,y,alpha=0.001,iter=400):\n",
    "        weights,X = self.initialize(X)\n",
    "        def cost(theta):\n",
    "            z = dot(X,theta)\n",
    "            cost0 = y.T.dot(log(self.sigmoid(z)))\n",
    "            cost1 = (1-y).T.dot(log(1-self.sigmoid(z)))\n",
    "            cost = -((cost1 + cost0))/len(y)\n",
    "            return cost\n",
    "        cost_list = np.zeros(iter,)\n",
    "        for i in range(iter):\n",
    "            weights = weights - alpha*dot(X.T,self.sigmoid(dot(X,weights))-np.reshape(y,(len(y),1)))\n",
    "            cost_list[i] = cost(weights)\n",
    "        self.weights = weights\n",
    "        return cost_list\n",
    "    def predict(self,X):\n",
    "        z = dot(self.initialize(X)[1],self.weights)\n",
    "        lis = []\n",
    "        for i in self.sigmoid(z):\n",
    "            if i>0.5:\n",
    "                lis.append(1)\n",
    "            else:\n",
    "                lis.append(0)\n",
    "        return lis\n",
    "    "
   ]
  },
  {
   "cell_type": "code",
   "execution_count": 8,
   "id": "c7361c2a",
   "metadata": {},
   "outputs": [
    {
     "name": "stdout",
     "output_type": "stream",
     "text": [
      "0.9387755102040817\n",
      "1.0\n"
     ]
    }
   ],
   "source": [
    "standardize(X_tr)\n",
    "standardize(X_te)\n",
    "obj1 = LogidticRegression()\n",
    "model= obj1.fit(X_tr,y_tr)\n",
    "y_pred = obj1.predict(X_te)\n",
    "y_train = obj1.predict(X_tr)\n",
    "#Let's see the f1-score for training and testing data\n",
    "f1_score_tr = F1_score(y_tr,y_train)\n",
    "f1_score_te = F1_score(y_te,y_pred)\n",
    "print(f1_score_tr)\n",
    "print(f1_score_te)"
   ]
  }
 ],
 "metadata": {
  "kernelspec": {
   "display_name": "Python 3 (ipykernel)",
   "language": "python",
   "name": "python3"
  },
  "language_info": {
   "codemirror_mode": {
    "name": "ipython",
    "version": 3
   },
   "file_extension": ".py",
   "mimetype": "text/x-python",
   "name": "python",
   "nbconvert_exporter": "python",
   "pygments_lexer": "ipython3",
   "version": "3.9.12"
  },
  "widgets": {
   "application/vnd.jupyter.widget-state+json": {
    "state": {},
    "version_major": 2,
    "version_minor": 0
   }
  }
 },
 "nbformat": 4,
 "nbformat_minor": 5
}
