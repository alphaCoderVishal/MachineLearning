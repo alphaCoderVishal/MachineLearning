{
 "cells": [
  {
   "cell_type": "markdown",
   "id": "55ca1271",
   "metadata": {},
   "source": [
    "# importing libraries"
   ]
  },
  {
   "cell_type": "code",
   "execution_count": 10,
   "id": "af05ae42",
   "metadata": {},
   "outputs": [],
   "source": [
    "import pandas as pd\n",
    "import numpy as np\n",
    "import math\n",
    "from sklearn.datasets import make_blobs"
   ]
  },
  {
   "cell_type": "markdown",
   "id": "2aec3565",
   "metadata": {},
   "source": [
    "# Reading Data"
   ]
  },
  {
   "cell_type": "code",
   "execution_count": 2,
   "id": "9baa9257",
   "metadata": {},
   "outputs": [
    {
     "data": {
      "text/html": [
       "<div>\n",
       "<style scoped>\n",
       "    .dataframe tbody tr th:only-of-type {\n",
       "        vertical-align: middle;\n",
       "    }\n",
       "\n",
       "    .dataframe tbody tr th {\n",
       "        vertical-align: top;\n",
       "    }\n",
       "\n",
       "    .dataframe thead th {\n",
       "        text-align: right;\n",
       "    }\n",
       "</style>\n",
       "<table border=\"1\" class=\"dataframe\">\n",
       "  <thead>\n",
       "    <tr style=\"text-align: right;\">\n",
       "      <th></th>\n",
       "      <th>Points</th>\n",
       "      <th>x</th>\n",
       "      <th>y</th>\n",
       "    </tr>\n",
       "  </thead>\n",
       "  <tbody>\n",
       "    <tr>\n",
       "      <th>0</th>\n",
       "      <td>A1</td>\n",
       "      <td>2</td>\n",
       "      <td>10</td>\n",
       "    </tr>\n",
       "    <tr>\n",
       "      <th>1</th>\n",
       "      <td>A2</td>\n",
       "      <td>2</td>\n",
       "      <td>5</td>\n",
       "    </tr>\n",
       "    <tr>\n",
       "      <th>2</th>\n",
       "      <td>A3</td>\n",
       "      <td>8</td>\n",
       "      <td>4</td>\n",
       "    </tr>\n",
       "    <tr>\n",
       "      <th>3</th>\n",
       "      <td>A4</td>\n",
       "      <td>5</td>\n",
       "      <td>8</td>\n",
       "    </tr>\n",
       "    <tr>\n",
       "      <th>4</th>\n",
       "      <td>A5</td>\n",
       "      <td>7</td>\n",
       "      <td>5</td>\n",
       "    </tr>\n",
       "    <tr>\n",
       "      <th>5</th>\n",
       "      <td>A6</td>\n",
       "      <td>6</td>\n",
       "      <td>4</td>\n",
       "    </tr>\n",
       "    <tr>\n",
       "      <th>6</th>\n",
       "      <td>A7</td>\n",
       "      <td>1</td>\n",
       "      <td>2</td>\n",
       "    </tr>\n",
       "    <tr>\n",
       "      <th>7</th>\n",
       "      <td>A8</td>\n",
       "      <td>4</td>\n",
       "      <td>9</td>\n",
       "    </tr>\n",
       "  </tbody>\n",
       "</table>\n",
       "</div>"
      ],
      "text/plain": [
       "  Points  x   y\n",
       "0     A1  2  10\n",
       "1     A2  2   5\n",
       "2     A3  8   4\n",
       "3     A4  5   8\n",
       "4     A5  7   5\n",
       "5     A6  6   4\n",
       "6     A7  1   2\n",
       "7     A8  4   9"
      ]
     },
     "execution_count": 2,
     "metadata": {},
     "output_type": "execute_result"
    }
   ],
   "source": [
    "df = pd.read_csv(\"C:\\\\Users\\\\vishal567795\\\\PycharmProjects\\\\Book\\\\pythonProject\\\\KMeansData.csv\")\n",
    "df"
   ]
  },
  {
   "cell_type": "markdown",
   "id": "bd6aa049",
   "metadata": {},
   "source": [
    "# Finding Euclidean Distance"
   ]
  },
  {
   "cell_type": "code",
   "execution_count": 3,
   "id": "6e3b7159",
   "metadata": {},
   "outputs": [],
   "source": [
    "def eucldistance(C, X):\n",
    "    x = C[1]\n",
    "    x1 = X[1]\n",
    "    y1 = X[2]\n",
    "    y = C[2]\n",
    "    ans1 = x - x1\n",
    "    ans2 = y - y1\n",
    "    ans1 = ans1 * ans1\n",
    "    ans2 = ans2 * ans2\n",
    "    ans = ans1 + ans2\n",
    "    ans = math.sqrt(ans)\n",
    "    return ans"
   ]
  },
  {
   "cell_type": "markdown",
   "id": "7845562d",
   "metadata": {},
   "source": [
    "# k cluster initialization"
   ]
  },
  {
   "cell_type": "code",
   "execution_count": 7,
   "id": "a77f8668",
   "metadata": {},
   "outputs": [],
   "source": [
    "row = len(df)\n",
    "# into array of numpy\n",
    "arr = np.array(df)\n",
    "arr\n",
    "# Initial Seed c1:-cluster 1\n",
    "K = 3\n",
    "C1 = arr[0]\n",
    "C2 = arr[1]\n",
    "C3 = arr[2]"
   ]
  },
  {
   "cell_type": "code",
   "execution_count": 8,
   "id": "cac4031b",
   "metadata": {},
   "outputs": [
    {
     "name": "stdout",
     "output_type": "stream",
     "text": [
      "['A1' 2 10]\n"
     ]
    }
   ],
   "source": [
    "print(arr[0])"
   ]
  },
  {
   "cell_type": "markdown",
   "id": "a8303392",
   "metadata": {},
   "source": [
    "# comparing Data"
   ]
  },
  {
   "cell_type": "code",
   "execution_count": 9,
   "id": "8c8e3f4d",
   "metadata": {},
   "outputs": [],
   "source": [
    "def compare(x, y, z):\n",
    "    if x <= y:\n",
    "        if x <= z:\n",
    "            return 1\n",
    "        else:\n",
    "            return 3\n",
    "    else:\n",
    "        if y <= z:\n",
    "            return 2\n",
    "        else:\n",
    "            return 3\n",
    "        "
   ]
  },
  {
   "cell_type": "markdown",
   "id": "f190b1fe",
   "metadata": {},
   "source": [
    "# Initialization of clusters with seed points"
   ]
  },
  {
   "cell_type": "code",
   "execution_count": 10,
   "id": "75cf0ca9",
   "metadata": {},
   "outputs": [],
   "source": [
    "Cl1 = [C1]\n",
    "Cl2 = [C2]\n",
    "Cl3 = [C3]\n",
    "# initial\n",
    "for x in range(3, row - 1):# row = len(df)\n",
    "    dis1 = eucldistance(arr[x], C1)\n",
    "    dis2 = eucldistance(arr[x], C2)\n",
    "    dis3 = eucldistance(arr[x], C3)\n",
    "    r = compare(dis1, dis2, dis3)\n",
    "    if r == 1:\n",
    "        Cl1.append(arr[x])\n",
    "    elif r == 2:\n",
    "        Cl2.append(arr[x])\n",
    "    else:\n",
    "        Cl3.append(arr[x])\n",
    "        "
   ]
  },
  {
   "cell_type": "code",
   "execution_count": 17,
   "id": "4cf114ac",
   "metadata": {},
   "outputs": [
    {
     "name": "stdout",
     "output_type": "stream",
     "text": [
      "[array(['A1', 2, 10], dtype=object), array(['A4', 5, 8], dtype=object)] || [array(['A2', 2, 5], dtype=object), array(['A7', 1, 2], dtype=object)] || [array(['A3', 8, 4], dtype=object), array(['A5', 7, 5], dtype=object), array(['A6', 6, 4], dtype=object)]\n",
      "8\n"
     ]
    }
   ],
   "source": [
    "print(Cl1,Cl2,Cl3,sep=\" || \")\n",
    "print(row)"
   ]
  },
  {
   "cell_type": "markdown",
   "id": "5876aae8",
   "metadata": {},
   "source": [
    "# calculating recurring centroid"
   ]
  },
  {
   "cell_type": "code",
   "execution_count": null,
   "id": "bd8813ae",
   "metadata": {},
   "outputs": [],
   "source": [
    "x1 = 0\n",
    "y1 = 0\n",
    "for x in range(0, len(Cl1)):\n",
    "    x1 = x1 + Cl1[x][1]\n",
    "    y1 = y1 + Cl1[x][2]\n",
    "x1 = x1 / len(Cl1)\n",
    "y1 = y1 / len(Cl1)\n",
    "arr1 = [\"new\", x1, y1]\n",
    "\n",
    "# C1n is for centrod of cluster 1\n",
    "C1n = arr1"
   ]
  },
  {
   "cell_type": "code",
   "execution_count": 19,
   "id": "26f958dc",
   "metadata": {},
   "outputs": [
    {
     "name": "stdout",
     "output_type": "stream",
     "text": [
      "Cl1: [array(['A1', 2, 10], dtype=object), array(['A4', 5, 8], dtype=object)]\n",
      "['new', 3.5, 9.0]\n"
     ]
    }
   ],
   "source": [
    "print(\"Cl1:\",Cl1)\n",
    "print(C1n)"
   ]
  },
  {
   "cell_type": "code",
   "execution_count": 20,
   "id": "74715392",
   "metadata": {},
   "outputs": [
    {
     "name": "stdout",
     "output_type": "stream",
     "text": [
      "arr: [['A1' 2 10]\n",
      " ['A2' 2 5]\n",
      " ['A3' 8 4]\n",
      " ['A4' 5 8]\n",
      " ['A5' 7 5]\n",
      " ['A6' 6 4]\n",
      " ['A7' 1 2]\n",
      " ['A8' 4 9]]\n"
     ]
    }
   ],
   "source": [
    "x1 = 0\n",
    "y1 = 0\n",
    "arr1 = []\n",
    "for x in range(0, len(Cl2)):\n",
    "    x1 = x1 + Cl2[x][1]\n",
    "    y1 = y1 + Cl2[x][2]\n",
    "x1 = x1 / len(Cl2)\n",
    "y1 = y1 / len(Cl2)\n",
    "arr1 = [\"new\", x1, y1]\n",
    "\n",
    "#C2n: centroid of cluster 2\n",
    "C2n = arr1\n",
    "x1 = 0\n",
    "y1 = 0\n",
    "arr1 = []\n",
    "for x in range(0, len(Cl3)):\n",
    "    x1 = x1 + Cl3[x][1]\n",
    "    y1 = y1 + Cl3[x][2]\n",
    "x1 = x1 / len(Cl3)\n",
    "y1 = y1 / len(Cl3)\n",
    "arr1 = [\"new\", x1, y1]\n",
    "#C3n: centroid of cluster3\n",
    "C3n = arr1\n",
    "i = 0\n",
    "print(\"arr:\",arr)\n",
    "while (i < 10):\n",
    "    Cl1 = []\n",
    "    Cl2 = []\n",
    "    Cl3 = []\n",
    "    for x in range(0, row - 1):\n",
    "        dis1 = eucldistance(arr[x], C1)\n",
    "        dis2 = eucldistance(arr[x], C2)\n",
    "        dis3 = eucldistance(arr[x], C3)\n",
    "        r = compare(dis1, dis2, dis3)\n",
    "\n",
    "        if r == 1:\n",
    "            Cl1.append(arr[x])\n",
    "        elif r == 2:\n",
    "            Cl2.append(arr[x])\n",
    "        else:\n",
    "            Cl3.append(arr[x])\n",
    "    x1 = 0\n",
    "    y1 = 0\n",
    "    for x in range(0, len(Cl1)):\n",
    "        x1 = x1 + Cl1[x][1]\n",
    "        y1 = y1 + Cl1[x][2]\n",
    "    x1 = x1 / len(Cl1)\n",
    "    y1 = y1 / len(Cl1)\n",
    "    arr1 = [\"new\", x1, y1]\n",
    "    C1n = arr1\n",
    "    x1 = 0\n",
    "    y1 = 0\n",
    "    arr1 = []\n",
    "    for x in range(0, len(Cl2)):\n",
    "        x1 = x1 + Cl2[x][1]\n",
    "        y1 = y1 + Cl2[x][2]\n",
    "    x1 = x1 / len(Cl2)\n",
    "    y1 = y1 / len(Cl2)\n",
    "    arr1 = [\"new\", x1, y1]\n",
    "    C2n = arr1\n",
    "    x1 = 0\n",
    "    y1 = 0\n",
    "    arr1 = []\n",
    "    for x in range(0, len(Cl3)):\n",
    "        x1 = x1 + Cl3[x][1]\n",
    "        y1 = y1 + Cl3[x][2]\n",
    "    x1 = x1 / len(Cl3)\n",
    "    y1 = y1 / len(Cl3)\n",
    "    arr1 = [\"new\", x1, y1]\n",
    "    C3n = arr1\n",
    "    i = i + 1\n",
    "    "
   ]
  },
  {
   "cell_type": "markdown",
   "id": "d2f24bc3",
   "metadata": {},
   "source": [
    "# Printing k clusters"
   ]
  },
  {
   "cell_type": "code",
   "execution_count": 6,
   "id": "d6301ff8",
   "metadata": {},
   "outputs": [
    {
     "name": "stdout",
     "output_type": "stream",
     "text": [
      "[array(['A1', 2, 10], dtype=object), array(['A4', 5, 8], dtype=object)]\n",
      "[array(['A2', 2, 5], dtype=object), array(['A7', 1, 2], dtype=object)]\n",
      "[array(['A3', 8, 4], dtype=object), array(['A5', 7, 5], dtype=object), array(['A6', 6, 4], dtype=object)]\n"
     ]
    }
   ],
   "source": [
    "# Cluster\n",
    "print(Cl1)\n",
    "print(Cl2)\n",
    "print(Cl3)"
   ]
  },
  {
   "cell_type": "code",
   "execution_count": 11,
   "id": "1d51d4b7",
   "metadata": {},
   "outputs": [
    {
     "name": "stdout",
     "output_type": "stream",
     "text": [
      "Help on function make_blobs in module sklearn.datasets._samples_generator:\n",
      "\n",
      "make_blobs(n_samples=100, n_features=2, *, centers=None, cluster_std=1.0, center_box=(-10.0, 10.0), shuffle=True, random_state=None, return_centers=False)\n",
      "    Generate isotropic Gaussian blobs for clustering.\n",
      "    \n",
      "    Read more in the :ref:`User Guide <sample_generators>`.\n",
      "    \n",
      "    Parameters\n",
      "    ----------\n",
      "    n_samples : int or array-like, default=100\n",
      "        If int, it is the total number of points equally divided among\n",
      "        clusters.\n",
      "        If array-like, each element of the sequence indicates\n",
      "        the number of samples per cluster.\n",
      "    \n",
      "        .. versionchanged:: v0.20\n",
      "            one can now pass an array-like to the ``n_samples`` parameter\n",
      "    \n",
      "    n_features : int, default=2\n",
      "        The number of features for each sample.\n",
      "    \n",
      "    centers : int or ndarray of shape (n_centers, n_features), default=None\n",
      "        The number of centers to generate, or the fixed center locations.\n",
      "        If n_samples is an int and centers is None, 3 centers are generated.\n",
      "        If n_samples is array-like, centers must be\n",
      "        either None or an array of length equal to the length of n_samples.\n",
      "    \n",
      "    cluster_std : float or array-like of float, default=1.0\n",
      "        The standard deviation of the clusters.\n",
      "    \n",
      "    center_box : tuple of float (min, max), default=(-10.0, 10.0)\n",
      "        The bounding box for each cluster center when centers are\n",
      "        generated at random.\n",
      "    \n",
      "    shuffle : bool, default=True\n",
      "        Shuffle the samples.\n",
      "    \n",
      "    random_state : int, RandomState instance or None, default=None\n",
      "        Determines random number generation for dataset creation. Pass an int\n",
      "        for reproducible output across multiple function calls.\n",
      "        See :term:`Glossary <random_state>`.\n",
      "    \n",
      "    return_centers : bool, default=False\n",
      "        If True, then return the centers of each cluster.\n",
      "    \n",
      "        .. versionadded:: 0.23\n",
      "    \n",
      "    Returns\n",
      "    -------\n",
      "    X : ndarray of shape (n_samples, n_features)\n",
      "        The generated samples.\n",
      "    \n",
      "    y : ndarray of shape (n_samples,)\n",
      "        The integer labels for cluster membership of each sample.\n",
      "    \n",
      "    centers : ndarray of shape (n_centers, n_features)\n",
      "        The centers of each cluster. Only returned if\n",
      "        ``return_centers=True``.\n",
      "    \n",
      "    See Also\n",
      "    --------\n",
      "    make_classification : A more intricate variant.\n",
      "    \n",
      "    Examples\n",
      "    --------\n",
      "    >>> from sklearn.datasets import make_blobs\n",
      "    >>> X, y = make_blobs(n_samples=10, centers=3, n_features=2,\n",
      "    ...                   random_state=0)\n",
      "    >>> print(X.shape)\n",
      "    (10, 2)\n",
      "    >>> y\n",
      "    array([0, 0, 1, 0, 2, 2, 2, 1, 1, 0])\n",
      "    >>> X, y = make_blobs(n_samples=[3, 3, 4], centers=None, n_features=2,\n",
      "    ...                   random_state=0)\n",
      "    >>> print(X.shape)\n",
      "    (10, 2)\n",
      "    >>> y\n",
      "    array([0, 1, 2, 0, 2, 2, 2, 1, 1, 0])\n",
      "\n"
     ]
    }
   ],
   "source": [
    "help(make_blobs)"
   ]
  },
  {
   "cell_type": "code",
   "execution_count": null,
   "id": "cde4f2de",
   "metadata": {},
   "outputs": [],
   "source": []
  }
 ],
 "metadata": {
  "kernelspec": {
   "display_name": "Python 3 (ipykernel)",
   "language": "python",
   "name": "python3"
  },
  "language_info": {
   "codemirror_mode": {
    "name": "ipython",
    "version": 3
   },
   "file_extension": ".py",
   "mimetype": "text/x-python",
   "name": "python",
   "nbconvert_exporter": "python",
   "pygments_lexer": "ipython3",
   "version": "3.9.2"
  }
 },
 "nbformat": 4,
 "nbformat_minor": 5
}
